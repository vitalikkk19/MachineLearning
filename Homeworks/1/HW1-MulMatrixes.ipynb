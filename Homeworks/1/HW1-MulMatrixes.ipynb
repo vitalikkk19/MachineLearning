{
 "cells": [
  {
   "cell_type": "markdown",
   "id": "043992a4",
   "metadata": {},
   "source": [
    "## Homework #1: Multiplication of matrixes"
   ]
  },
  {
   "cell_type": "code",
   "execution_count": 1,
   "id": "1c47bd47",
   "metadata": {},
   "outputs": [],
   "source": [
    "import numpy as np\n",
    "import random\n",
    "import time"
   ]
  },
  {
   "cell_type": "code",
   "execution_count": 2,
   "id": "3d8347ad",
   "metadata": {},
   "outputs": [],
   "source": [
    "def CreateMatrix(n):\n",
    "    return [[random.randint(0,100) for i in range(n)] for j in range(n)]"
   ]
  },
  {
   "cell_type": "code",
   "execution_count": 3,
   "id": "8fcd9b98",
   "metadata": {},
   "outputs": [],
   "source": [
    "def ZerosMatrix(n):\n",
    "    return np.zeros((n,n))"
   ]
  },
  {
   "cell_type": "code",
   "execution_count": 4,
   "id": "5def42a7",
   "metadata": {},
   "outputs": [],
   "source": [
    "def MulMatrix(A,B,R,n):\n",
    "    for i in range(n):\n",
    "        for j in range(n):\n",
    "            for k in range(n):\n",
    "                R[i][j] += A[i][k] * B[k][j]\n",
    "    return R"
   ]
  },
  {
   "cell_type": "code",
   "execution_count": 5,
   "id": "ed8a1144",
   "metadata": {},
   "outputs": [],
   "source": [
    "def NumPyMulMatrix(A,B, R):\n",
    "    R = np.dot(A,B)\n",
    "    return R"
   ]
  },
  {
   "cell_type": "code",
   "execution_count": 6,
   "id": "0a912578",
   "metadata": {},
   "outputs": [
    {
     "name": "stdout",
     "output_type": "stream",
     "text": [
      " MulMatrix: 1.2000248432159424 s.\n",
      " NumPyMulM: 0.004973411560058594 s.\n"
     ]
    }
   ],
   "source": [
    "n = 100 #dim\n",
    "A = CreateMatrix(n)\n",
    "B = CreateMatrix(n)\n",
    "\n",
    "R1 = ZerosMatrix(n)\n",
    "R2 = ZerosMatrix(n)\n",
    "\n",
    "R1_start_time = time.time()\n",
    "MulMatrix(A,B,R1,n)\n",
    "print(\" MulMatrix: %s s.\" % (time.time() - R1_start_time))\n",
    "\n",
    "R2_start_time = time.time()\n",
    "NumPyMulMatrix(A,B,R2)\n",
    "print(\" NumPyMulM: %s s.\" % (time.time() - R2_start_time))"
   ]
  }
 ],
 "metadata": {
  "kernelspec": {
   "display_name": "Python 3 (ipykernel)",
   "language": "python",
   "name": "python3"
  },
  "language_info": {
   "codemirror_mode": {
    "name": "ipython",
    "version": 3
   },
   "file_extension": ".py",
   "mimetype": "text/x-python",
   "name": "python",
   "nbconvert_exporter": "python",
   "pygments_lexer": "ipython3",
   "version": "3.9.7"
  }
 },
 "nbformat": 4,
 "nbformat_minor": 5
}
