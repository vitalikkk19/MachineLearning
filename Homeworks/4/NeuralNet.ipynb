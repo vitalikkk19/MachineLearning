{
 "cells": [
  {
   "cell_type": "markdown",
   "metadata": {},
   "source": [
    "## Homework #4: NeuralNet"
   ]
  },
  {
   "cell_type": "markdown",
   "metadata": {},
   "source": [
    "В цій практичній роботі ми спробуємо реалізувати нейронну мережу з двох шарів (прихований і вихідний). Запропонований підхід стане заготовкою для реалізації наступних оптимізацій: MBGD, ADAM та регуляризації. \n",
    "\n",
    "Сьогодні ж вам пропонується додати до цього класу підтримку довільної кількості шарів та нейронів в них (наприклад, передавати їх параметром в конструктор, як це робиться в MLPClassifier за допомогою hidden_layer_sizes). Також потрібно передбачити можливість ранньої зупинки ітераційного процесу, якщо значення штрафної функції не покращуватиметься протягом певної кількості ітерацій. Наприклад, якщо протягом $k$ ітерацій штрафна функція за модулем не стане меншою, ніж на поточному кроці."
   ]
  },
  {
   "cell_type": "code",
   "execution_count": 1,
   "metadata": {},
   "outputs": [],
   "source": [
    "import numpy as np\n",
    "import pandas as pd\n",
    "from sklearn.model_selection import train_test_split\n",
    "from mpl_toolkits.mplot3d import Axes3D\n",
    "import matplotlib.pyplot as plt\n",
    "\n",
    "from matplotlib.colors import ListedColormap\n",
    "cm_bright = ListedColormap(['#FF0000', '#0000FF'])\n",
    "%matplotlib inline\n",
    "from sklearn.metrics import accuracy_score\n",
    "\n",
    "import sklearn.linear_model"
   ]
  },
  {
   "cell_type": "code",
   "execution_count": 2,
   "metadata": {},
   "outputs": [],
   "source": [
    "def plot_surface(cls, x_1, x_2, ax=None, threshold=0.5, contourf=False):\n",
    "    xx1, xx2 = np.meshgrid(np.linspace(x_1.min(), x_1.max(), 100), \n",
    "                           np.linspace(x_2.min(), x_2.max(), 100))\n",
    "\n",
    "    X_pred = np.c_[xx1.ravel(), xx2.ravel()]\n",
    "    pred = cls.predict_proba(X_pred)[:, 0]\n",
    "    Z = pred.reshape((100, 100))\n",
    "    if ax is None:\n",
    "        ax = plt.gca()\n",
    "    ax.contour(xx1, xx2, Z, levels=[threshold], colors='black')\n",
    "    ax.set_xlim((x_1.min(), x_1.max()))\n",
    "    ax.set_ylim((x_2.min(), x_2.max()))"
   ]
  },
  {
   "cell_type": "code",
   "execution_count": 3,
   "metadata": {},
   "outputs": [],
   "source": [
    "def plot_data(X, y):\n",
    "    ax = plt.gca()\n",
    "    ax.scatter(X[:,0], X[:,1], c=(y == 1), cmap=cm_bright)"
   ]
  },
  {
   "cell_type": "code",
   "execution_count": 4,
   "metadata": {},
   "outputs": [],
   "source": [
    "class NeuralNet:\n",
    "    \n",
    "    def __init__(self, layers_sizes, normalize = True, learning_rate = 0.01, num_iter = 15000, costs_iters=300, tol=1e-7):\n",
    "        self.learning_rate = learning_rate\n",
    "        self.num_iter = num_iter\n",
    "        self.normalize = normalize\n",
    "        self.layers_sizes = layers_sizes\n",
    "        self.tol = tol\n",
    "        self.layers = len(layers_sizes) + 1\n",
    "        print(\"Layers: {}\".format(self.layers))\n",
    "        self.costs_iters = costs_iters\n",
    "    \n",
    "    def __normalize(self, X, mean = None, std = None):\n",
    "        n = X.shape[0]\n",
    "        m = mean\n",
    "        if m is None:\n",
    "            m = np.mean(X, axis=1).reshape((n, 1))\n",
    "        s = std\n",
    "        if s is None:\n",
    "            s = np.std(X, axis=1).reshape((n, 1))\n",
    "        X_new = (X - m) / s\n",
    "        return X_new, m, s\n",
    "\n",
    "    def __sigmoid(self, Z):\n",
    "        return 1 / (1 + np.exp(-Z))\n",
    "    \n",
    "    def __sigmoid_derivative(self, A):\n",
    "        return np.multiply(A, 1 - A)\n",
    "    \n",
    "    def __initialize_parameters(self):\n",
    "        W, b = [], []\n",
    "        \n",
    "        for l in range(1,self.layers+1):\n",
    "            W_l = np.random.randn(self.layers_sizes[l], self.layers_sizes[l-1]) * 0.01\n",
    "            b_l = np.zeros((self.layers_sizes[l], 1))\n",
    "            W.append(W_l)\n",
    "            b.append(b_l)\n",
    "        \n",
    "        self.parameters = {\"W\" : W, \"b\" : b}\n",
    "        \n",
    "        for key in self.parameters:\n",
    "            for key_i,i in zip(self.parameters[key],range(len(self.parameters[key]))):\n",
    "                print(\"{}{}: {}\".format(key,i+1,key_i.shape))\n",
    "       \n",
    "    def __forward_propagation(self, X):            \n",
    "        W = self.parameters[\"W\"]\n",
    "        b = self.parameters[\"b\"]\n",
    "        Z, A = [], [] \n",
    "\n",
    "        A.append(X)\n",
    "        for l in range(0,self.layers):\n",
    "            Z_l = np.dot(W[l],A[l]) + b[l]\n",
    "            A_l = self.__sigmoid(Z_l)\n",
    "            Z.append(Z_l)\n",
    "            A.append(A_l)\n",
    "        \n",
    "        cache = (Z,A)\n",
    "        return A[-1], cache\n",
    "    \n",
    "    def compute_cost(self, A, Y):\n",
    "        m = Y.shape[1]\n",
    "        res = Y * np.log(A) + (1 - Y) * np.log(1 - A)\n",
    "        J = -(1 / m) * np.sum(res)\n",
    "        return J\n",
    "    \n",
    "    def __backward_propagation(self, X, Y, cache):\n",
    "        m = X.shape[1]\n",
    "        \n",
    "        W = self.parameters[\"W\"]\n",
    "        b = self.parameters[\"b\"]\n",
    "        (Z,A) = cache\n",
    "        \n",
    "        dZ, dW, db = [], [], []\n",
    "        \n",
    "        dZ_l = A[-1] - Y\n",
    "        dW_l = 1. / m * np.dot(dZ_l, A[-2].T)\n",
    "        db_l = 1. / m * np.sum(dZ_l, axis = 1, keepdims = True)\n",
    "        \n",
    "        dZ.insert(0,dZ_l)\n",
    "        dW.insert(0,dW_l)\n",
    "        db.insert(0,db_l)\n",
    "        \n",
    "        for l in range(self.layers-1,0,-1):\n",
    "            dA_l = np.dot(W[l].T,dZ_l)\n",
    "            dZ_l = np.multiply(dA_l, self.__sigmoid_derivative(A[l]))\n",
    "            dW_l = 1. / m * np.dot(dZ_l, A[l-1].T)\n",
    "            db_l = 1. / m * np.sum(dZ_l, axis = 1, keepdims = True)\n",
    "            dZ.insert(0,dZ_l)\n",
    "            dW.insert(0,dW_l)\n",
    "            db.insert(0,db_l)\n",
    "        \n",
    "        grads = {\"dZ\":dZ,\"dW\":dW,\"db\":db}\n",
    "        return grads\n",
    "  \n",
    "    \n",
    "    def __update_parameters(self, grads):        \n",
    "        W = self.parameters[\"W\"]\n",
    "        b = self.parameters[\"b\"]\n",
    "        dW = grads[\"dW\"]\n",
    "        db = grads[\"db\"]\n",
    "    \n",
    "        for l in range(0,len(W)):\n",
    "            W[l] = W[l] - self.learning_rate * dW[l]\n",
    "            b[l] = b[l] - self.learning_rate * db[l]\n",
    "            \n",
    "        self.parameters[\"W\"] = W\n",
    "        self.parameters[\"b\"] = b\n",
    "\n",
    "        \n",
    "    def fit(self, X_vert, Y_vert, print_cost = True):\n",
    "        \n",
    "        X, Y = X_vert.T, Y_vert.T\n",
    "        \n",
    "        if self.normalize:\n",
    "            X, self.__mean, self.__std = self.__normalize(X)\n",
    "        \n",
    "        costs = []\n",
    "        costs_imp = []\n",
    "        \n",
    "        m = X.shape[1]\n",
    "        n_x = X.shape[0]\n",
    "        \n",
    "        self.layers_sizes.insert(0,n_x)\n",
    "        self.layers_sizes.append(1);\n",
    "        \n",
    "        self.__initialize_parameters()\n",
    "\n",
    "        for i in range(self.num_iter):\n",
    "            A, cache = self.__forward_propagation(X)\n",
    "\n",
    "            cost = self.compute_cost(A, Y)\n",
    "            \n",
    "            grads = self.__backward_propagation(X, Y, cache)\n",
    "\n",
    "            self.__update_parameters(grads)\n",
    "\n",
    "            if print_cost and i % 1000 == 0:\n",
    "                print(\"{}-th iteration: {}\".format(i, cost))\n",
    "\n",
    "            if i % 1000 == 0:\n",
    "                costs.append(cost)\n",
    "            \n",
    "            costs_imp.append(cost)\n",
    "            if i > self.costs_iters:\n",
    "                len_imp = len(costs_imp)-1\n",
    "                if abs(costs_imp[len_imp] - costs_imp[len_imp-self.costs_iters]) < self.tol:\n",
    "                    print(\"Stop iteration: {}\".format(i))\n",
    "                    break;\n",
    "\n",
    "        if print_cost:\n",
    "            plt.plot(costs)\n",
    "            plt.ylabel(\"Cost\")\n",
    "            plt.xlabel(\"Iteration, *1000\")\n",
    "            plt.show()\n",
    "    \n",
    "    def predict_proba(self, X_vert):\n",
    "        X = X_vert.T\n",
    "        if self.normalize:\n",
    "            X, _, _ = self.__normalize(X, self.__mean, self.__std)\n",
    "        \n",
    "        probs = self.__forward_propagation(X)[0]\n",
    "        \n",
    "        return np.column_stack((probs.T, 1 - probs.T))\n",
    "    \n",
    "    def predict(self, X_vert):\n",
    "        positive_probs = self.predict_proba(X_vert)[:, 0]\n",
    "        return (positive_probs >= 0.5).astype(int)"
   ]
  },
  {
   "cell_type": "markdown",
   "metadata": {},
   "source": [
    "Спочатку спробуйте цей клас на одній задачі, а потім на іншій."
   ]
  },
  {
   "cell_type": "code",
   "execution_count": 5,
   "metadata": {},
   "outputs": [
    {
     "name": "stdout",
     "output_type": "stream",
     "text": [
      "Training set: X=(100, 2), y=(100, 1)\n"
     ]
    }
   ],
   "source": [
    "data_columns = [\"exam1\", \"exam2\"]\n",
    "target_column = \"submitted\"\n",
    "df = pd.read_csv(\"sats.csv\")\n",
    "X, Y = df[data_columns].values, df[target_column].values.reshape((df.shape[0], 1))\n",
    "print('Training set: X={}, y={}'.format(X.shape, Y.shape))"
   ]
  },
  {
   "cell_type": "code",
   "execution_count": 6,
   "metadata": {},
   "outputs": [
    {
     "data": {
      "image/png": "[encoded data removed]",
      "text/plain": [
       "<Figure size 432x288 with 1 Axes>"
      ]
     },
     "metadata": {
      "needs_background": "light"
     },
     "output_type": "display_data"
    }
   ],
   "source": [
    "plot_data(X, Y)"
   ]
  },
  {
   "cell_type": "code",
   "execution_count": 7,
   "metadata": {},
   "outputs": [
    {
     "name": "stdout",
     "output_type": "stream",
     "text": [
      "Layers: 3\n"
     ]
    }
   ],
   "source": [
    "cls = NeuralNet(layers_sizes = [5,5], normalize = True, learning_rate = 0.1, num_iter = 12001, tol = 1e-7, costs_iters=500)"
   ]
  },
  {
   "cell_type": "code",
   "execution_count": 8,
   "metadata": {},
   "outputs": [
    {
     "name": "stdout",
     "output_type": "stream",
     "text": [
      "W1: (5, 2)\n",
      "W2: (5, 5)\n",
      "W3: (1, 5)\n",
      "b1: (5, 1)\n",
      "b2: (5, 1)\n",
      "b3: (1, 1)\n",
      "0-th iteration: 0.6940568147289242\n",
      "1000-th iteration: 0.6730114221769741\n",
      "2000-th iteration: 0.6730101074963257\n",
      "3000-th iteration: 0.6730072851524028\n",
      "4000-th iteration: 0.6730001004781921\n",
      "5000-th iteration: 0.6729805449328531\n",
      "6000-th iteration: 0.6729215198880175\n",
      "7000-th iteration: 0.6726928844858423\n",
      "8000-th iteration: 0.6709607054869765\n",
      "9000-th iteration: 0.553802725797257\n",
      "10000-th iteration: 0.23486153202002227\n",
      "11000-th iteration: 0.207593452603913\n",
      "12000-th iteration: 0.15346915121475302\n"
     ]
    },
    {
     "data": {
      "image/png": "[encoded data removed]",
      "text/plain": [
       "<Figure size 432x288 with 1 Axes>"
      ]
     },
     "metadata": {
      "needs_background": "light"
     },
     "output_type": "display_data"
    }
   ],
   "source": [
    "cls.fit(X, Y)"
   ]
  },
  {
   "cell_type": "code",
   "execution_count": 9,
   "metadata": {},
   "outputs": [
    {
     "name": "stdout",
     "output_type": "stream",
     "text": [
      "W:\n",
      "\n",
      "[[-1.53169403 -1.40351282]\n",
      " [ 0.5388818   2.15145389]\n",
      " [-1.07593666 -1.66760792]\n",
      " [-0.34788647 -0.3020824 ]\n",
      " [-2.84186948 -0.41027941]]\n",
      "\n",
      "[[-1.24948319  1.52929236 -1.13808768 -0.10287222 -1.8763618 ]\n",
      " [-1.32298772  1.65744346 -1.18150755 -0.09470886 -2.02351245]\n",
      " [-1.22954219  1.46724949 -1.11100345 -0.11979845 -1.81425218]\n",
      " [-0.83176335  0.67406121 -0.76873088 -0.20032967 -1.07164987]\n",
      " [-1.17488448  1.39826955 -1.06867871 -0.14150683 -1.74631764]]\n",
      "\n",
      "[[2.79900739 3.08860333 2.68029636 1.13731165 2.51526831]]\n",
      "\n",
      "b:\n",
      "\n",
      "[[-0.81915427]\n",
      " [ 1.37561208]\n",
      " [-0.79418765]\n",
      " [-0.03493189]\n",
      " [-2.18170321]]\n",
      "\n",
      "[[ 0.4393794 ]\n",
      " [ 0.52538609]\n",
      " [ 0.41346118]\n",
      " [-0.04818405]\n",
      " [ 0.36039529]]\n",
      "\n",
      "[[-4.71629928]]\n",
      "\n"
     ]
    }
   ],
   "source": [
    "for key in cls.parameters:\n",
    "    print(\"{}:\\n\".format(key))\n",
    "    for i in cls.parameters[key]:\n",
    "        print(\"{}\\n\".format(i))"
   ]
  },
  {
   "cell_type": "code",
   "execution_count": 10,
   "metadata": {},
   "outputs": [
    {
     "data": {
      "text/plain": [
       "array([[0.09832981, 0.90167019],\n",
       "       [0.01271196, 0.98728804],\n",
       "       [0.0610259 , 0.9389741 ],\n",
       "       [0.99089722, 0.00910278],\n",
       "       [0.99448441, 0.00551559],\n",
       "       [0.02750094, 0.97249906],\n",
       "       [0.99429105, 0.00570895],\n",
       "       [0.47056224, 0.52943776],\n",
       "       [0.99574053, 0.00425947],\n",
       "       [0.64779512, 0.35220488],\n",
       "       [0.71393941, 0.28606059],\n",
       "       [0.07124647, 0.92875353],\n",
       "       [0.99512878, 0.00487122],\n",
       "       [0.99582191, 0.00417809],\n",
       "       [0.150635  , 0.849365  ],\n",
       "       [0.98294947, 0.01705053],\n",
       "       [0.5979301 , 0.4020699 ],\n",
       "       [0.21359586, 0.78640414],\n",
       "       [0.99566875, 0.00433125],\n",
       "       [0.61611257, 0.38388743],\n",
       "       [0.11288689, 0.88711311],\n",
       "       [0.99353064, 0.00646936],\n",
       "       [0.02583436, 0.97416564],\n",
       "       [0.01308697, 0.98691303],\n",
       "       [0.99158853, 0.00841147],\n",
       "       [0.96124587, 0.03875413],\n",
       "       [0.57105698, 0.42894302],\n",
       "       [0.66569213, 0.33430787],\n",
       "       [0.1499804 , 0.8500196 ],\n",
       "       [0.03461285, 0.96538715],\n",
       "       [0.97128552, 0.02871448],\n",
       "       [0.97932514, 0.02067486],\n",
       "       [0.21976117, 0.78023883],\n",
       "       [0.56819964, 0.43180036],\n",
       "       [0.08447106, 0.91552894],\n",
       "       [0.05858715, 0.94141285],\n",
       "       [0.62820966, 0.37179034],\n",
       "       [0.99122662, 0.00877338],\n",
       "       [0.22490173, 0.77509827],\n",
       "       [0.06721736, 0.93278264],\n",
       "       [0.97309371, 0.02690629],\n",
       "       [0.02494606, 0.97505394],\n",
       "       [0.99426913, 0.00573087],\n",
       "       [0.40714691, 0.59285309],\n",
       "       [0.02268823, 0.97731177],\n",
       "       [0.21916316, 0.78083684],\n",
       "       [0.99220565, 0.00779435],\n",
       "       [0.99639174, 0.00360826],\n",
       "       [0.99461228, 0.00538772],\n",
       "       [0.99634379, 0.00365621],\n",
       "       [0.99435578, 0.00564422],\n",
       "       [0.99344447, 0.00655553],\n",
       "       [0.80907919, 0.19092081],\n",
       "       [0.0197579 , 0.9802421 ],\n",
       "       [0.02691392, 0.97308608],\n",
       "       [0.07338892, 0.92661108],\n",
       "       [0.99529006, 0.00470994],\n",
       "       [0.4735262 , 0.5264738 ],\n",
       "       [0.99024543, 0.00975457],\n",
       "       [0.99373967, 0.00626033],\n",
       "       [0.9955538 , 0.0044462 ],\n",
       "       [0.01366393, 0.98633607],\n",
       "       [0.02507258, 0.97492742],\n",
       "       [0.01344388, 0.98655612],\n",
       "       [0.0857784 , 0.9142216 ],\n",
       "       [0.08308961, 0.91691039],\n",
       "       [0.85458098, 0.14541902],\n",
       "       [0.02793485, 0.97206515],\n",
       "       [0.99617567, 0.00382433],\n",
       "       [0.8966661 , 0.1033339 ],\n",
       "       [0.01284015, 0.98715985],\n",
       "       [0.98900762, 0.01099238],\n",
       "       [0.9959699 , 0.0040301 ],\n",
       "       [0.96752588, 0.03247412],\n",
       "       [0.97069188, 0.02930812],\n",
       "       [0.99580948, 0.00419052],\n",
       "       [0.92077096, 0.07922904],\n",
       "       [0.77582669, 0.22417331],\n",
       "       [0.04632268, 0.95367732],\n",
       "       [0.52064914, 0.47935086],\n",
       "       [0.99462859, 0.00537141],\n",
       "       [0.92628373, 0.07371627],\n",
       "       [0.96989436, 0.03010564],\n",
       "       [0.33203251, 0.66796749],\n",
       "       [0.99613867, 0.00386133],\n",
       "       [0.9945487 , 0.0054513 ],\n",
       "       [0.33978828, 0.66021172],\n",
       "       [0.99588545, 0.00411455],\n",
       "       [0.99625395, 0.00374605],\n",
       "       [0.15002028, 0.84997972],\n",
       "       [0.99594338, 0.00405662],\n",
       "       [0.99629372, 0.00370628],\n",
       "       [0.02085599, 0.97914401],\n",
       "       [0.99537814, 0.00462186],\n",
       "       [0.86270132, 0.13729868],\n",
       "       [0.84806156, 0.15193844],\n",
       "       [0.69906794, 0.30093206],\n",
       "       [0.99539189, 0.00460811],\n",
       "       [0.54285214, 0.45714786],\n",
       "       [0.99578658, 0.00421342]])"
      ]
     },
     "execution_count": 10,
     "metadata": {},
     "output_type": "execute_result"
    }
   ],
   "source": [
    "Y_prob = cls.predict_proba(X)\n",
    "Y_prob"
   ]
  },
  {
   "cell_type": "code",
   "execution_count": 11,
   "metadata": {},
   "outputs": [
    {
     "data": {
      "text/plain": [
       "array([0, 0, 0, 1, 1, 0, 1, 0, 1, 1, 1, 0, 1, 1, 0, 1, 1, 0, 1, 1, 0, 1,\n",
       "       0, 0, 1, 1, 1, 1, 0, 0, 1, 1, 0, 1, 0, 0, 1, 1, 0, 0, 1, 0, 1, 0,\n",
       "       0, 0, 1, 1, 1, 1, 1, 1, 1, 0, 0, 0, 1, 0, 1, 1, 1, 0, 0, 0, 0, 0,\n",
       "       1, 0, 1, 1, 0, 1, 1, 1, 1, 1, 1, 1, 0, 1, 1, 1, 1, 0, 1, 1, 0, 1,\n",
       "       1, 0, 1, 1, 0, 1, 1, 1, 1, 1, 1, 1])"
      ]
     },
     "execution_count": 11,
     "metadata": {},
     "output_type": "execute_result"
    }
   ],
   "source": [
    "Y_hat = cls.predict(X)\n",
    "Y_hat"
   ]
  },
  {
   "cell_type": "code",
   "execution_count": 12,
   "metadata": {},
   "outputs": [
    {
     "data": {
      "text/plain": [
       "0.94"
      ]
     },
     "execution_count": 12,
     "metadata": {},
     "output_type": "execute_result"
    }
   ],
   "source": [
    "accuracy_score(Y, Y_hat)"
   ]
  },
  {
   "cell_type": "code",
   "execution_count": 13,
   "metadata": {},
   "outputs": [
    {
     "data": {
      "image/png": "[encoded data removed]",
      "text/plain": [
       "<Figure size 432x288 with 1 Axes>"
      ]
     },
     "metadata": {
      "needs_background": "light"
     },
     "output_type": "display_data"
    }
   ],
   "source": [
    "plot_data(X, Y)\n",
    "plot_surface(cls, X[:, 0], X[:, 1])"
   ]
  },
  {
   "cell_type": "code",
   "execution_count": null,
   "metadata": {},
   "outputs": [],
   "source": []
  },
  {
   "cell_type": "code",
   "execution_count": 14,
   "metadata": {},
   "outputs": [
    {
     "name": "stdout",
     "output_type": "stream",
     "text": [
      "Training set: X=(118, 2), y=(118, 1)\n"
     ]
    }
   ],
   "source": [
    "data_columns = [\"test1\", \"test2\"]\n",
    "target_column = \"passed\"\n",
    "df = pd.read_csv(\"tests.csv\")\n",
    "X2, Y2 = df[data_columns].values, df[target_column].values.reshape((df.shape[0], 1))\n",
    "print('Training set: X={}, y={}'.format(X2.shape, Y2.shape))"
   ]
  },
  {
   "cell_type": "code",
   "execution_count": 15,
   "metadata": {},
   "outputs": [
    {
     "data": {
      "image/png": "[encoded data removed]",
      "text/plain": [
       "<Figure size 432x288 with 1 Axes>"
      ]
     },
     "metadata": {
      "needs_background": "light"
     },
     "output_type": "display_data"
    }
   ],
   "source": [
    "plot_data(X2, Y2)"
   ]
  },
  {
   "cell_type": "code",
   "execution_count": 16,
   "metadata": {},
   "outputs": [
    {
     "name": "stdout",
     "output_type": "stream",
     "text": [
      "Layers: 3\n"
     ]
    }
   ],
   "source": [
    "cls2 = NeuralNet(layers_sizes = [70,60], normalize = True, learning_rate = 0.5, num_iter = 20001, tol = 1e-7, costs_iters=500)"
   ]
  },
  {
   "cell_type": "code",
   "execution_count": 17,
   "metadata": {},
   "outputs": [
    {
     "name": "stdout",
     "output_type": "stream",
     "text": [
      "W1: (70, 2)\n",
      "W2: (60, 70)\n",
      "W3: (1, 60)\n",
      "b1: (70, 1)\n",
      "b2: (60, 1)\n",
      "b3: (1, 1)\n",
      "0-th iteration: 0.6931122637599516\n",
      "1000-th iteration: 0.6930030324419183\n",
      "2000-th iteration: 0.6930025964252035\n",
      "3000-th iteration: 0.6930019920016677\n",
      "4000-th iteration: 0.6930010781192227\n",
      "5000-th iteration: 0.6929995841408956\n",
      "6000-th iteration: 0.6929969311138324\n",
      "7000-th iteration: 0.6929917141355143\n",
      "8000-th iteration: 0.6929799111961886\n",
      "9000-th iteration: 0.6929469412695829\n",
      "10000-th iteration: 0.69281675235803\n",
      "11000-th iteration: 0.691976394992391\n",
      "12000-th iteration: 0.6898457590193997\n",
      "13000-th iteration: 0.6869874302880266\n",
      "14000-th iteration: 0.6167177738510543\n",
      "15000-th iteration: 0.5674632718938167\n",
      "16000-th iteration: 0.5499750048668358\n",
      "17000-th iteration: 0.54253185684083\n",
      "18000-th iteration: 0.540862509289764\n",
      "19000-th iteration: 0.5393341791097561\n",
      "20000-th iteration: 0.5318318308404386\n"
     ]
    },
    {
     "data": {
      "image/png": "[encoded data removed]",
      "text/plain": [
       "<Figure size 432x288 with 1 Axes>"
      ]
     },
     "metadata": {
      "needs_background": "light"
     },
     "output_type": "display_data"
    }
   ],
   "source": [
    "cls2.fit(X2, Y2)"
   ]
  },
  {
   "cell_type": "code",
   "execution_count": 18,
   "metadata": {},
   "outputs": [
    {
     "name": "stdout",
     "output_type": "stream",
     "text": [
      "W:\n",
      "\n",
      "[[-0.6438998  -0.81577722]\n",
      " [ 0.92356949  0.75778866]\n",
      " [-0.66815747 -0.8199582 ]\n",
      " [ 0.34247337  0.34967714]\n",
      " [-0.64289351 -0.80705442]\n",
      " [-0.28520669  0.58915574]\n",
      " [-0.58863749 -0.75729875]\n",
      " [ 0.47973022  0.48975137]\n",
      " [ 0.06548763  0.10722553]\n",
      " [ 0.23512573  0.16818748]\n",
      " [ 0.09298977 -0.50973607]\n",
      " [ 0.08441972 -0.52558354]\n",
      " [ 0.15844266 -0.49892544]\n",
      " [-0.66134461 -0.8313209 ]\n",
      " [ 0.06766661 -0.59462983]\n",
      " [ 0.95317511  0.82275688]\n",
      " [-0.84124706 -1.0667448 ]\n",
      " [ 0.44153186  0.51496903]\n",
      " [ 0.27431343 -0.34145043]\n",
      " [ 0.9285554   0.76186012]\n",
      " [ 0.41184089  0.52631252]\n",
      " [ 0.27630772 -0.37989082]\n",
      " [-0.05446847 -0.6370235 ]\n",
      " [ 0.95566189  0.79729816]\n",
      " [-0.0330364  -0.61804365]\n",
      " [-0.57072244 -0.77080577]\n",
      " [ 0.94345692  0.78661522]\n",
      " [-0.64613693 -0.82121553]\n",
      " [-0.69118023 -0.88118796]\n",
      " [ 0.66107451  0.59239853]\n",
      " [ 0.34764534  0.50402231]\n",
      " [ 0.40825073  0.42576655]\n",
      " [-0.72261149 -0.92543937]\n",
      " [-0.51070523 -0.7448247 ]\n",
      " [ 0.78271019  0.62255292]\n",
      " [ 0.11711325 -0.61120273]\n",
      " [-0.05017686  0.60780922]\n",
      " [-0.45862722 -0.70533707]\n",
      " [ 0.58388564  0.56393114]\n",
      " [-0.66880425 -0.84333648]\n",
      " [-0.60957596 -0.78155095]\n",
      " [ 0.95286219  0.86510424]\n",
      " [ 0.11982145  0.37610854]\n",
      " [-0.68278751 -0.87021834]\n",
      " [ 0.3679291   0.53064303]\n",
      " [ 0.52209     0.51915705]\n",
      " [ 0.89569954  0.72737891]\n",
      " [-0.01456991  0.32894   ]\n",
      " [-0.00610082 -0.60005304]\n",
      " [ 0.84958802  0.67772793]\n",
      " [-0.08324823 -0.62311243]\n",
      " [ 0.69502708  0.60261074]\n",
      " [-0.68343023 -0.8508296 ]\n",
      " [ 0.29628302  0.53469147]\n",
      " [ 0.63139106  0.55476635]\n",
      " [-0.50840656 -0.72237381]\n",
      " [-0.70380675 -0.9047106 ]\n",
      " [ 0.94382681  0.80930645]\n",
      " [ 0.64580986  0.57672506]\n",
      " [-0.08696433 -0.4220384 ]\n",
      " [-0.58707798 -0.75260527]\n",
      " [-0.35006082 -0.6525815 ]\n",
      " [ 0.72762892  0.62490003]\n",
      " [ 0.32944065  0.56229473]\n",
      " [-0.07135008  0.27167313]\n",
      " [-0.63407416 -0.80883609]\n",
      " [-0.42040886 -0.67498498]\n",
      " [-0.26131778  0.5278857 ]\n",
      " [ 0.08414986 -0.61327814]\n",
      " [-0.15999805 -0.62427246]]\n",
      "\n",
      "[[-2.09626467e-02 -5.29256224e-03 -2.06041971e-02 ... -5.92526154e-02\n",
      "   1.33337323e-02  1.24413698e-02]\n",
      " [-1.85007981e-02  2.77397271e-02 -1.70589394e-03 ...  8.03237548e-02\n",
      "  -5.46789502e-02 -5.10964670e-02]\n",
      " [-2.09475792e-02  6.56180621e-03 -2.60253009e-02 ...  9.70318359e-03\n",
      "  -2.17576236e-02 -6.13806440e-03]\n",
      " ...\n",
      " [ 1.85014106e-01 -4.86647410e-01  1.87070905e-01 ... -1.30488291e-01\n",
      "   3.67545090e-03  5.06294796e-02]\n",
      " [-1.64628302e-02  7.83809943e-03 -1.24876976e-02 ... -2.05570045e-02\n",
      "   2.12747742e-02  1.75993976e-02]\n",
      " [-2.09464261e-03  3.48729531e-03 -1.73708802e-04 ... -7.59240973e-02\n",
      "   5.09718296e-03  1.48538783e-02]]\n",
      "\n",
      "[[-0.16988315  0.30778274  0.04062642 -4.03845495  1.06876918 -1.5027388\n",
      "  -0.36243814 -0.55083676  0.15364184 -0.13595004 -0.3439091  -0.06981987\n",
      "  -0.2025915  -0.10295377  0.13194786 -0.32221781 -0.32956555 -3.28374804\n",
      "  -0.33485841 -0.35366645  0.08078887  1.69225835 -0.26565673 -0.58310942\n",
      "   0.43310064 -0.94998264 -0.15593131 -4.01573433 -0.5261763  -0.28982989\n",
      "  -0.26402986 -0.09100248  3.05540651 -0.35970633  0.06252646 -0.09602467\n",
      "   0.21187002 -0.75564292 -0.11139612 -0.24313503 -0.03647811  0.08169054\n",
      "  -0.1040833  -0.29100771 -2.01468767 -0.13067994 -0.00525941 -0.01335422\n",
      "  -0.01234919  0.15939829 -0.22057638  0.47680441  0.5060251  -0.21676444\n",
      "  -0.27228148 -0.3796313  -0.31389231 -1.61179409 -0.14593121 -0.19335615]]\n",
      "\n",
      "b:\n",
      "\n",
      "[[-1.47666012e-02]\n",
      " [ 4.96915535e-01]\n",
      " [-3.19541526e-02]\n",
      " [ 8.21146458e-02]\n",
      " [-3.14977873e-02]\n",
      " [ 3.08167987e-01]\n",
      " [-3.36763415e-02]\n",
      " [ 1.31058376e-01]\n",
      " [ 4.76526983e-02]\n",
      " [ 5.88612538e-02]\n",
      " [ 6.69220330e-02]\n",
      " [ 6.35874176e-02]\n",
      " [ 5.36523200e-02]\n",
      " [-2.47786489e-02]\n",
      " [ 5.23355059e-02]\n",
      " [ 5.35584501e-01]\n",
      " [ 2.91225521e-01]\n",
      " [ 1.30839002e-01]\n",
      " [ 4.82605325e-02]\n",
      " [ 5.00656909e-01]\n",
      " [ 1.33332033e-01]\n",
      " [ 4.75844897e-02]\n",
      " [ 6.22132000e-02]\n",
      " [ 5.38796741e-01]\n",
      " [ 6.50476116e-02]\n",
      " [-1.68998244e-02]\n",
      " [ 5.12060366e-01]\n",
      " [-2.25670706e-02]\n",
      " [ 1.84568406e-02]\n",
      " [ 2.24984370e-01]\n",
      " [ 1.12501711e-01]\n",
      " [ 1.07604227e-01]\n",
      " [ 7.55489439e-02]\n",
      " [ 2.13713978e-04]\n",
      " [ 3.14756793e-01]\n",
      " [ 6.39999474e-02]\n",
      " [ 2.45149385e-01]\n",
      " [ 1.98219177e-02]\n",
      " [ 1.87864018e-01]\n",
      " [-1.19763697e-03]\n",
      " [-1.72475214e-02]\n",
      " [ 4.93676874e-01]\n",
      " [ 9.07894475e-02]\n",
      " [ 2.12957526e-02]\n",
      " [ 1.27291160e-01]\n",
      " [ 1.50817761e-01]\n",
      " [ 4.58274879e-01]\n",
      " [ 9.34230353e-02]\n",
      " [ 5.68800766e-02]\n",
      " [ 3.83649209e-01]\n",
      " [ 5.70251395e-02]\n",
      " [ 2.52081109e-01]\n",
      " [-7.30778374e-03]\n",
      " [ 1.29502234e-01]\n",
      " [ 2.02719802e-01]\n",
      " [-2.58579086e-04]\n",
      " [ 4.95607949e-02]\n",
      " [ 5.14815700e-01]\n",
      " [ 2.21158170e-01]\n",
      " [ 3.93880470e-02]\n",
      " [-4.29570601e-02]\n",
      " [ 3.42233034e-02]\n",
      " [ 2.75670878e-01]\n",
      " [ 1.43775658e-01]\n",
      " [ 1.03045175e-01]\n",
      " [-3.01447370e-02]\n",
      " [ 1.27035136e-02]\n",
      " [ 2.74998381e-01]\n",
      " [ 5.81203817e-02]\n",
      " [ 6.13312461e-02]]\n",
      "\n",
      "[[-0.01478525]\n",
      " [ 0.01534848]\n",
      " [-0.01790626]\n",
      " [-0.17230669]\n",
      " [ 0.19787792]\n",
      " [-0.24818843]\n",
      " [-0.02137245]\n",
      " [-0.03986654]\n",
      " [-0.01036205]\n",
      " [-0.01583376]\n",
      " [-0.01938877]\n",
      " [-0.01656512]\n",
      " [-0.01417318]\n",
      " [-0.01576373]\n",
      " [-0.01036635]\n",
      " [-0.01684369]\n",
      " [-0.08574842]\n",
      " [-0.36863334]\n",
      " [-0.0180056 ]\n",
      " [-0.02214959]\n",
      " [-0.01533396]\n",
      " [ 0.28402753]\n",
      " [-0.01574273]\n",
      " [-0.04588162]\n",
      " [ 0.03497455]\n",
      " [-0.05274646]\n",
      " [-0.01462805]\n",
      " [-0.2096982 ]\n",
      " [-0.03671379]\n",
      " [-0.01834374]\n",
      " [-0.016423  ]\n",
      " [-0.01621905]\n",
      " [-0.3277075 ]\n",
      " [-0.02187035]\n",
      " [-0.01635982]\n",
      " [-0.01644047]\n",
      " [ 0.0009747 ]\n",
      " [-0.10396355]\n",
      " [-0.0157631 ]\n",
      " [-0.01392247]\n",
      " [-0.08299005]\n",
      " [-0.01540435]\n",
      " [-0.01569804]\n",
      " [-0.01819883]\n",
      " [-0.31809591]\n",
      " [-0.01540342]\n",
      " [-0.01750621]\n",
      " [-0.01895752]\n",
      " [-0.017913  ]\n",
      " [ 0.09292088]\n",
      " [-0.01559449]\n",
      " [ 0.05215469]\n",
      " [ 0.06469447]\n",
      " [-0.01524682]\n",
      " [-0.01683211]\n",
      " [-0.02414437]\n",
      " [-0.01822852]\n",
      " [-0.26088064]\n",
      " [-0.01520624]\n",
      " [-0.01515062]]\n",
      "\n",
      "[[-0.04435346]]\n",
      "\n"
     ]
    }
   ],
   "source": [
    "for key in cls2.parameters:\n",
    "    print(\"{}:\\n\".format(key))\n",
    "    for i in cls2.parameters[key]:\n",
    "        print(\"{}\\n\".format(i))"
   ]
  },
  {
   "cell_type": "code",
   "execution_count": 19,
   "metadata": {},
   "outputs": [
    {
     "data": {
      "text/plain": [
       "array([[0.62010077, 0.37989923],\n",
       "       [0.53913989, 0.46086011],\n",
       "       [0.64177008, 0.35822992],\n",
       "       [0.36506025, 0.63493975],\n",
       "       [0.03048491, 0.96951509],\n",
       "       [0.7392596 , 0.2607404 ],\n",
       "       [0.02319579, 0.97680421],\n",
       "       [0.52200026, 0.47799974],\n",
       "       [0.62376524, 0.37623476],\n",
       "       [0.76139352, 0.23860648],\n",
       "       [0.67443357, 0.32556643],\n",
       "       [0.16005105, 0.83994895],\n",
       "       [0.19593629, 0.80406371],\n",
       "       [0.25300503, 0.74699497],\n",
       "       [0.65715764, 0.34284236],\n",
       "       [0.66206859, 0.33793141],\n",
       "       [0.77661227, 0.22338773],\n",
       "       [0.58315865, 0.41684135],\n",
       "       [0.6740854 , 0.3259146 ],\n",
       "       [0.45736402, 0.54263598],\n",
       "       [0.72366498, 0.27633502],\n",
       "       [0.73770385, 0.26229615],\n",
       "       [0.76904903, 0.23095097],\n",
       "       [0.1804578 , 0.8195422 ],\n",
       "       [0.72690666, 0.27309334],\n",
       "       [0.70657802, 0.29342198],\n",
       "       [0.14254008, 0.85745992],\n",
       "       [0.74144104, 0.25855896],\n",
       "       [0.589614  , 0.410386  ],\n",
       "       [0.70518282, 0.29481718],\n",
       "       [0.67828468, 0.32171532],\n",
       "       [0.69420459, 0.30579541],\n",
       "       [0.31349621, 0.68650379],\n",
       "       [0.75920165, 0.24079835],\n",
       "       [0.00565965, 0.99434035],\n",
       "       [0.7442821 , 0.2557179 ],\n",
       "       [0.33049425, 0.66950575],\n",
       "       [0.58665137, 0.41334863],\n",
       "       [0.70325045, 0.29674955],\n",
       "       [0.0272555 , 0.9727445 ],\n",
       "       [0.07941767, 0.92058233],\n",
       "       [0.42166351, 0.57833649],\n",
       "       [0.01624287, 0.98375713],\n",
       "       [0.73912646, 0.26087354],\n",
       "       [0.11491391, 0.88508609],\n",
       "       [0.71129675, 0.28870325],\n",
       "       [0.04560289, 0.95439711],\n",
       "       [0.01345049, 0.98654951],\n",
       "       [0.04817539, 0.95182461],\n",
       "       [0.53774952, 0.46225048],\n",
       "       [0.61791991, 0.38208009],\n",
       "       [0.55982029, 0.44017971],\n",
       "       [0.70288234, 0.29711766],\n",
       "       [0.00738705, 0.99261295],\n",
       "       [0.26383198, 0.73616802],\n",
       "       [0.76210163, 0.23789837],\n",
       "       [0.00701545, 0.99298455],\n",
       "       [0.41349452, 0.58650548],\n",
       "       [0.7162082 , 0.2837918 ],\n",
       "       [0.57346931, 0.42653069],\n",
       "       [0.57532469, 0.42467531],\n",
       "       [0.68056044, 0.31943956],\n",
       "       [0.09488231, 0.90511769],\n",
       "       [0.25054585, 0.74945415],\n",
       "       [0.74583799, 0.25416201],\n",
       "       [0.65264647, 0.34735353],\n",
       "       [0.00917664, 0.99082336],\n",
       "       [0.18899661, 0.81100339],\n",
       "       [0.61951991, 0.38048009],\n",
       "       [0.15480021, 0.84519979],\n",
       "       [0.73371425, 0.26628575],\n",
       "       [0.65469412, 0.34530588],\n",
       "       [0.59281407, 0.40718593],\n",
       "       [0.6046659 , 0.3953341 ],\n",
       "       [0.6695067 , 0.3304933 ],\n",
       "       [0.68973629, 0.31026371],\n",
       "       [0.59564174, 0.40435826],\n",
       "       [0.74455388, 0.25544612],\n",
       "       [0.53406795, 0.46593205],\n",
       "       [0.59824537, 0.40175463],\n",
       "       [0.04510061, 0.95489939],\n",
       "       [0.72435018, 0.27564982],\n",
       "       [0.68210235, 0.31789765],\n",
       "       [0.63643993, 0.36356007],\n",
       "       [0.49116171, 0.50883829],\n",
       "       [0.73335911, 0.26664089],\n",
       "       [0.16350006, 0.83649994],\n",
       "       [0.74873222, 0.25126778],\n",
       "       [0.72989457, 0.27010543],\n",
       "       [0.40713453, 0.59286547],\n",
       "       [0.29280823, 0.70719177],\n",
       "       [0.75206775, 0.24793225],\n",
       "       [0.5980838 , 0.4019162 ],\n",
       "       [0.56802794, 0.43197206],\n",
       "       [0.13328762, 0.86671238],\n",
       "       [0.09908343, 0.90091657],\n",
       "       [0.73295394, 0.26704606],\n",
       "       [0.04300621, 0.95699379],\n",
       "       [0.42339321, 0.57660679],\n",
       "       [0.49892384, 0.50107616],\n",
       "       [0.71971066, 0.28028934],\n",
       "       [0.63479801, 0.36520199],\n",
       "       [0.51075739, 0.48924261],\n",
       "       [0.04985045, 0.95014955],\n",
       "       [0.51516271, 0.48483729],\n",
       "       [0.7378084 , 0.2621916 ],\n",
       "       [0.73640546, 0.26359454],\n",
       "       [0.43042763, 0.56957237],\n",
       "       [0.63056063, 0.36943937],\n",
       "       [0.66334156, 0.33665844],\n",
       "       [0.52783885, 0.47216115],\n",
       "       [0.71848328, 0.28151672],\n",
       "       [0.59944918, 0.40055082],\n",
       "       [0.70889925, 0.29110075],\n",
       "       [0.26012327, 0.73987673],\n",
       "       [0.61963191, 0.38036809],\n",
       "       [0.10669967, 0.89330033],\n",
       "       [0.76140722, 0.23859278]])"
      ]
     },
     "execution_count": 19,
     "metadata": {},
     "output_type": "execute_result"
    }
   ],
   "source": [
    "Y2_prob = cls2.predict_proba(X2)\n",
    "Y2_prob"
   ]
  },
  {
   "cell_type": "code",
   "execution_count": 20,
   "metadata": {},
   "outputs": [
    {
     "data": {
      "text/plain": [
       "array([1, 1, 1, 0, 0, 1, 0, 1, 1, 1, 1, 0, 0, 0, 1, 1, 1, 1, 1, 0, 1, 1,\n",
       "       1, 0, 1, 1, 0, 1, 1, 1, 1, 1, 0, 1, 0, 1, 0, 1, 1, 0, 0, 0, 0, 1,\n",
       "       0, 1, 0, 0, 0, 1, 1, 1, 1, 0, 0, 1, 0, 0, 1, 1, 1, 1, 0, 0, 1, 1,\n",
       "       0, 0, 1, 0, 1, 1, 1, 1, 1, 1, 1, 1, 1, 1, 0, 1, 1, 1, 0, 1, 0, 1,\n",
       "       1, 0, 0, 1, 1, 1, 0, 0, 1, 0, 0, 0, 1, 1, 1, 0, 1, 1, 1, 0, 1, 1,\n",
       "       1, 1, 1, 1, 0, 1, 0, 1])"
      ]
     },
     "execution_count": 20,
     "metadata": {},
     "output_type": "execute_result"
    }
   ],
   "source": [
    "Y2_hat = cls2.predict(X2)\n",
    "Y2_hat"
   ]
  },
  {
   "cell_type": "code",
   "execution_count": 21,
   "metadata": {},
   "outputs": [
    {
     "data": {
      "text/plain": [
       "0.7203389830508474"
      ]
     },
     "execution_count": 21,
     "metadata": {},
     "output_type": "execute_result"
    }
   ],
   "source": [
    "accuracy_score(Y2, Y2_hat)"
   ]
  },
  {
   "cell_type": "code",
   "execution_count": 22,
   "metadata": {},
   "outputs": [
    {
     "data": {
      "image/png": "[encoded data removed]",
      "text/plain": [
       "<Figure size 432x288 with 1 Axes>"
      ]
     },
     "metadata": {
      "needs_background": "light"
     },
     "output_type": "display_data"
    }
   ],
   "source": [
    "plot_data(X2, Y2)\n",
    "plot_surface(cls2, X2[:, 0], X2[:, 1])"
   ]
  },
  {
   "cell_type": "markdown",
   "metadata": {},
   "source": [
    "Зверніть увагу на границю прийняття рішення. Модель старається побудувати складну криву, що може свідчити про її перетренування. Порівняйте отримані результати з класом з sklearn. Спробуйте додати нові шари для нашого класу та порівняти результати тоді. Поекспериментуйте з гіперпараметрами для обох класів."
   ]
  },
  {
   "cell_type": "code",
   "execution_count": 23,
   "metadata": {},
   "outputs": [],
   "source": [
    "from sklearn.neural_network import MLPClassifier\n",
    "clf = MLPClassifier(hidden_layer_sizes = (20,20), max_iter = 20001, solver = 'adam', activation = 'relu')#, solver = 'sgd', learning_rate_init = 0.01, learning_rate = 'constant')"
   ]
  },
  {
   "cell_type": "code",
   "execution_count": 24,
   "metadata": {},
   "outputs": [
    {
     "name": "stderr",
     "output_type": "stream",
     "text": [
      "D:\\ProgFiles\\Anaconda\\lib\\site-packages\\sklearn\\neural_network\\_multilayer_perceptron.py:1109: DataConversionWarning: A column-vector y was passed when a 1d array was expected. Please change the shape of y to (n_samples, ), for example using ravel().\n",
      "  y = column_or_1d(y, warn=True)\n"
     ]
    },
    {
     "data": {
      "text/plain": [
       "MLPClassifier(hidden_layer_sizes=(20, 20), max_iter=20001)"
      ]
     },
     "execution_count": 24,
     "metadata": {},
     "output_type": "execute_result"
    }
   ],
   "source": [
    "clf.fit(X2, Y2)"
   ]
  },
  {
   "cell_type": "code",
   "execution_count": 25,
   "metadata": {},
   "outputs": [
    {
     "data": {
      "image/png": "[encoded data removed]",
      "text/plain": [
       "<Figure size 432x288 with 1 Axes>"
      ]
     },
     "metadata": {
      "needs_background": "light"
     },
     "output_type": "display_data"
    }
   ],
   "source": [
    "plot_data(X2, Y2)\n",
    "plot_surface(clf, X2[:, 0], X2[:, 1])"
   ]
  },
  {
   "cell_type": "code",
   "execution_count": 26,
   "metadata": {},
   "outputs": [
    {
     "data": {
      "text/plain": [
       "0.864406779661017"
      ]
     },
     "execution_count": 26,
     "metadata": {},
     "output_type": "execute_result"
    }
   ],
   "source": [
    "accuracy_score(Y2, clf.predict(X2))"
   ]
  },
  {
   "cell_type": "code",
   "execution_count": 27,
   "metadata": {},
   "outputs": [
    {
     "data": {
      "text/plain": [
       "465"
      ]
     },
     "execution_count": 27,
     "metadata": {},
     "output_type": "execute_result"
    }
   ],
   "source": [
    "clf.n_iter_"
   ]
  }
 ],
 "metadata": {
  "anaconda-cloud": {},
  "kernelspec": {
   "display_name": "Python 3 (ipykernel)",
   "language": "python",
   "name": "python3"
  },
  "language_info": {
   "codemirror_mode": {
    "name": "ipython",
    "version": 3
   },
   "file_extension": ".py",
   "mimetype": "text/x-python",
   "name": "python",
   "nbconvert_exporter": "python",
   "pygments_lexer": "ipython3",
   "version": "3.9.7"
  }
 },
 "nbformat": 4,
 "nbformat_minor": 1
}
